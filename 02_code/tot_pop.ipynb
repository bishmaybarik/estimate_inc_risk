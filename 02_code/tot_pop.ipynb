{
 "cells": [
  {
   "cell_type": "code",
   "execution_count": 14,
   "metadata": {},
   "outputs": [
    {
     "ename": "",
     "evalue": "",
     "output_type": "error",
     "traceback": [
      "\u001b[1;31mThe Kernel crashed while executing code in the current cell or a previous cell. \n",
      "\u001b[1;31mPlease review the code in the cell(s) to identify a possible cause of the failure. \n",
      "\u001b[1;31mClick <a href='https://aka.ms/vscodeJupyterKernelCrash'>here</a> for more info. \n",
      "\u001b[1;31mView Jupyter <a href='command:jupyter.viewOutput'>log</a> for further details."
     ]
    }
   ],
   "source": [
    "import pandas as pd\n",
    "import numpy as np\n",
    "import statsmodels.api as sm\n",
    "from sklearn.utils import resample\n",
    "\n",
    "# Step 1: Load the dataset\n",
    "data = pd.read_csv('/Users/bishmaybarik/Library/CloudStorage/OneDrive-ShivNadarInstitutionofEminence/estimate_inc_risk/01_data/inrisk_data.csv')\n",
    "\n",
    "# Step 2: Filter the data\n",
    "filtered_data = data[\n",
    "    (data['relation_with_hoh'] == 'HOH') &\n",
    "    (data['gender'] == 'M') &\n",
    "    (data['age_yrs'] > 25) &\n",
    "    (data['age_yrs'] < 60)\n",
    "]\n",
    "\n",
    "# Step 3: Combine income variables to calculate total income\n",
    "filtered_data['total_income'] = (\n",
    "    filtered_data['inc_of_mem_frm_all_srcs'] + filtered_data['inc_of_mem_frm_wages']\n",
    ")\n",
    "\n",
    "# Step 4: Retain only rows with positive total_income\n",
    "trimmed_data = filtered_data[filtered_data['total_income'] > 0]\n",
    "\n",
    "# Step 5: Take the log of total income\n",
    "trimmed_data['log_total_income'] = np.log(trimmed_data['total_income'])\n"
   ]
  },
  {
   "cell_type": "code",
   "execution_count": 13,
   "metadata": {},
   "outputs": [
    {
     "name": "stdout",
     "output_type": "stream",
     "text": [
      "Variance of alpha (sigma_alpha^2): 0.0036142856989644814\n",
      "Variance of transitory income (sigma_nu^2): 0.5437684029863508\n",
      "Autoregressive parameter (rho): 0.526388682801267\n",
      "Variance of permanent income at t=0 (sigma_y_p0^2): 0.004999600127058644\n",
      "Variance of shock (sigma_xi^2): 0.39309838868335745\n"
     ]
    }
   ],
   "source": [
    "import numpy as np\n",
    "import pandas as pd\n",
    "import statsmodels.api as sm\n",
    "\n",
    "# Step 6: Run OLS to estimate the fixed component (alpha_i)\n",
    "X = sm.add_constant(trimmed_data['age_yrs'])  # Add constant for intercept\n",
    "y = trimmed_data['log_total_income']\n",
    "ols_model = sm.OLS(y, X).fit()\n",
    "trimmed_data['fitted_values'] = ols_model.fittedvalues\n",
    "\n",
    "# Step 7: Calculate residuals\n",
    "trimmed_data['residuals'] = trimmed_data['log_total_income'] - trimmed_data['fitted_values']\n",
    "\n",
    "# Step 8: Estimate variance of alpha (sigma_alpha^2)\n",
    "# Correct approach: Use fitted values' variance directly, but ensure this reflects the fixed component\n",
    "sigma_alpha_squared = np.var(trimmed_data['fitted_values'], ddof=1)  # Use ddof=1 for sample variance\n",
    "\n",
    "# Step 9: Estimate the transitory income variance (sigma_nu^2)\n",
    "sigma_nu_squared = np.var(trimmed_data['residuals'], ddof=1)  # Use ddof=1 for sample variance\n",
    "\n",
    "# Step 10: Estimate rho (autoregressive parameter)\n",
    "trimmed_data['lagged_residuals'] = trimmed_data['residuals'].shift(1)\n",
    "trimmed_data = trimmed_data.dropna()  # Drop rows with NaN due to lag\n",
    "X_lag = sm.add_constant(trimmed_data['lagged_residuals'])\n",
    "y_res = trimmed_data['residuals']\n",
    "ar_model = sm.OLS(y_res, X_lag).fit()\n",
    "rho = ar_model.params['lagged_residuals']\n",
    "\n",
    "# Step 11: Estimate variance of permanent income at t=0 (sigma_y_p0^2)\n",
    "# Correct formula: Divide sigma_alpha_squared by (1 - rho^2) only if rho < 1\n",
    "if abs(rho) < 1:\n",
    "    sigma_y_p0_squared = sigma_alpha_squared / (1 - rho**2)\n",
    "else:\n",
    "    raise ValueError(\"rho must be less than 1 for the variance formula to hold.\")\n",
    "\n",
    "# Step 12: Estimate variance of shock (sigma_xi^2)\n",
    "# Residual term (residuals - rho * lagged_residuals) gives the shocks\n",
    "shocks = trimmed_data['residuals'] - rho * trimmed_data['lagged_residuals']\n",
    "sigma_xi_squared = np.var(shocks, ddof=1)  # Use ddof=1 for sample variance\n",
    "\n",
    "# Step 13: Print results\n",
    "print(f\"Variance of alpha (sigma_alpha^2): {sigma_alpha_squared}\")\n",
    "print(f\"Variance of transitory income (sigma_nu^2): {sigma_nu_squared}\")\n",
    "print(f\"Autoregressive parameter (rho): {rho}\")\n",
    "print(f\"Variance of permanent income at t=0 (sigma_y_p0^2): {sigma_y_p0_squared}\")\n",
    "print(f\"Variance of shock (sigma_xi^2): {sigma_xi_squared}\")\n"
   ]
  }
 ],
 "metadata": {
  "kernelspec": {
   "display_name": "Python 3",
   "language": "python",
   "name": "python3"
  },
  "language_info": {
   "codemirror_mode": {
    "name": "ipython",
    "version": 3
   },
   "file_extension": ".py",
   "mimetype": "text/x-python",
   "name": "python",
   "nbconvert_exporter": "python",
   "pygments_lexer": "ipython3",
   "version": "3.12.4"
  }
 },
 "nbformat": 4,
 "nbformat_minor": 2
}
