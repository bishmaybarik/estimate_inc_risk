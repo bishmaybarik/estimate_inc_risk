{
 "cells": [
  {
   "cell_type": "code",
   "execution_count": 5,
   "metadata": {},
   "outputs": [],
   "source": [
    "import pandas as pd\n",
    "import numpy as np\n",
    "import statsmodels.api as sm\n",
    "from sklearn.utils import resample\n",
    "\n",
    "# Step 1: Load the dataset\n",
    "data = pd.read_csv('/Users/bishmaybarik/Library/CloudStorage/OneDrive-ShivNadarInstitutionofEminence/estimate_inc_risk/01_data/inrisk_data.csv')\n",
    "\n",
    "# Step 2: Combine income variables to calculate total income\n",
    "data['total_income'] = data['inc_of_mem_frm_all_srcs'] + data['inc_of_mem_frm_wages']\n",
    "\n",
    "# Step 3: Take the log of total income\n",
    "data['log_total_income'] = np.log(data['total_income'].replace(0, np.nan))  # Replace 0s to avoid log(0)"
   ]
  },
  {
   "cell_type": "code",
   "execution_count": 4,
   "metadata": {},
   "outputs": [
    {
     "name": "stdout",
     "output_type": "stream",
     "text": [
      "Estimated rho (persistence of income shocks): 0.9441899729781386\n",
      "95% CI for rho: (0.9437703645442105, 0.9445955738338977)\n",
      "Estimated variance of transitory shocks (sigma_eta^2): 0.0672447799508552\n",
      "95% CI for sigma_eta^2: (0.06683108799733349, 0.06758979886543359)\n",
      "Estimated variance of persistent shocks (sigma_alpha^2): 0.5433710067584161\n",
      "95% CI for sigma_alpha^2: (0.5424839360577294, 0.5441660827569366)\n"
     ]
    }
   ],
   "source": [
    "# Step 4: Regression to isolate residuals\n",
    "# Prepare independent variables\n",
    "X = pd.get_dummies(data[['age_yrs', 'region_type']], drop_first=True)\n",
    "X = sm.add_constant(X)  # Add constant for regression\n",
    "# Convert any boolean columns to integers for compatibility\n",
    "X = X.astype(float)\n",
    "\n",
    "# Define dependent variable\n",
    "y = data['log_total_income']\n",
    "\n",
    "# Fit the regression model\n",
    "model = sm.OLS(y, X, missing='drop').fit()\n",
    "data['residuals'] = model.resid\n",
    "\n",
    "# Step 5: Estimating Variance Components\n",
    "# Compute lagged residuals for AR(1) process\n",
    "data['residuals_lagged'] = data.groupby(['hh_id', 'mem_id'])['residuals'].shift(1)\n",
    "\n",
    "# Drop NaN values caused by lagging\n",
    "residuals_data = data[['residuals', 'residuals_lagged']].dropna()\n",
    "\n",
    "# Calculate variances and covariances\n",
    "sigma_residuals = residuals_data['residuals'].var()\n",
    "sigma_residuals_lagged = residuals_data['residuals_lagged'].var()\n",
    "cov_residuals = residuals_data.cov().iloc[0, 1]\n",
    "\n",
    "# Estimate persistence (rho)\n",
    "rho = cov_residuals / sigma_residuals_lagged\n",
    "\n",
    "# Estimate variance components\n",
    "sigma_eta_squared = sigma_residuals - rho**2 * sigma_residuals_lagged\n",
    "sigma_alpha_squared = sigma_residuals - sigma_eta_squared\n",
    "\n",
    "# Step 6: Bootstrapping for Confidence Intervals\n",
    "n_iterations = 500\n",
    "bootstrap_rho = []\n",
    "bootstrap_sigma_eta_squared = []\n",
    "bootstrap_sigma_alpha_squared = []\n",
    "\n",
    "for _ in range(n_iterations):\n",
    "    # Resample the data with replacement\n",
    "    sample = resample(residuals_data)\n",
    "\n",
    "    # Calculate variances and covariances for the sample\n",
    "    sigma_residuals_sample = sample['residuals'].var()\n",
    "    sigma_residuals_lagged_sample = sample['residuals_lagged'].var()\n",
    "    cov_residuals_sample = sample.cov().iloc[0, 1]\n",
    "\n",
    "    # Estimate rho for the sample\n",
    "    rho_sample = cov_residuals_sample / sigma_residuals_lagged_sample\n",
    "    bootstrap_rho.append(rho_sample)\n",
    "\n",
    "    # Estimate variance components for the sample\n",
    "    sigma_eta_squared_sample = sigma_residuals_sample - rho_sample**2 * sigma_residuals_lagged_sample\n",
    "    sigma_alpha_squared_sample = sigma_residuals_sample - sigma_eta_squared_sample\n",
    "\n",
    "    bootstrap_sigma_eta_squared.append(sigma_eta_squared_sample)\n",
    "    bootstrap_sigma_alpha_squared.append(sigma_alpha_squared_sample)\n",
    "\n",
    "# Calculate confidence intervals\n",
    "rho_ci = (np.percentile(bootstrap_rho, 2.5), np.percentile(bootstrap_rho, 97.5))\n",
    "sigma_eta_ci = (np.percentile(bootstrap_sigma_eta_squared, 2.5), np.percentile(bootstrap_sigma_eta_squared, 97.5))\n",
    "sigma_alpha_ci = (np.percentile(bootstrap_sigma_alpha_squared, 2.5), np.percentile(bootstrap_sigma_alpha_squared, 97.5))\n",
    "\n",
    "# Output results\n",
    "print(f\"Estimated rho (persistence of income shocks): {rho}\")\n",
    "print(f\"95% CI for rho: {rho_ci}\")\n",
    "print(f\"Estimated variance of transitory shocks (sigma_eta^2): {sigma_eta_squared}\")\n",
    "print(f\"95% CI for sigma_eta^2: {sigma_eta_ci}\")\n",
    "print(f\"Estimated variance of persistent shocks (sigma_alpha^2): {sigma_alpha_squared}\")\n",
    "print(f\"95% CI for sigma_alpha^2: {sigma_alpha_ci}\")"
   ]
  },
  {
   "cell_type": "code",
   "execution_count": 7,
   "metadata": {},
   "outputs": [
    {
     "name": "stdout",
     "output_type": "stream",
     "text": [
      "Results saved to /Users/bishmaybarik/Library/CloudStorage/OneDrive-ShivNadarInstitutionofEminence/estimate_inc_risk/03_results/population.txt\n"
     ]
    }
   ],
   "source": [
    "# Define the output content\n",
    "output_content = (\n",
    "    \"Estimated rho (persistence of income shocks): 0.9441899729781386\\n\"\n",
    "    \"95% CI for rho: (0.9437703645442105, 0.9445955738338977)\\n\"\n",
    "    \"Estimated variance of transitory shocks (sigma_eta^2): 0.0672447799508552\\n\"\n",
    "    \"95% CI for sigma_eta^2: (0.06683108799733349, 0.06758979886543359)\\n\"\n",
    "    \"Estimated variance of persistent shocks (sigma_alpha^2): 0.5433710067584161\\n\"\n",
    "    \"95% CI for sigma_alpha^2: (0.5424839360577294, 0.5441660827569366)\\n\"\n",
    ")\n",
    "\n",
    "# Specify the file path\n",
    "file_path = \"/Users/bishmaybarik/Library/CloudStorage/OneDrive-ShivNadarInstitutionofEminence/estimate_inc_risk/03_results/population.txt\"\n",
    "\n",
    "# Write the content to the file\n",
    "with open(file_path, \"w\") as file:\n",
    "    file.write(output_content)\n",
    "\n",
    "print(f\"Results saved to {file_path}\")\n"
   ]
  },
  {
   "cell_type": "code",
   "execution_count": null,
   "metadata": {},
   "outputs": [],
   "source": []
  },
  {
   "cell_type": "code",
   "execution_count": 1,
   "metadata": {},
   "outputs": [
    {
     "name": "stdout",
     "output_type": "stream",
     "text": [
      "Requirement already satisfied: fuzzywuzzy in /Library/Frameworks/Python.framework/Versions/3.12/lib/python3.12/site-packages (0.18.0)\n",
      "\n",
      "\u001b[1m[\u001b[0m\u001b[34;49mnotice\u001b[0m\u001b[1;39;49m]\u001b[0m\u001b[39;49m A new release of pip is available: \u001b[0m\u001b[31;49m24.1.1\u001b[0m\u001b[39;49m -> \u001b[0m\u001b[32;49m24.3.1\u001b[0m\n",
      "\u001b[1m[\u001b[0m\u001b[34;49mnotice\u001b[0m\u001b[1;39;49m]\u001b[0m\u001b[39;49m To update, run: \u001b[0m\u001b[32;49mpip3 install --upgrade pip\u001b[0m\n",
      "Note: you may need to restart the kernel to use updated packages.\n"
     ]
    }
   ],
   "source": [
    "pip install fuzzywuzzy"
   ]
  },
  {
   "cell_type": "code",
   "execution_count": null,
   "metadata": {},
   "outputs": [],
   "source": []
  }
 ],
 "metadata": {
  "kernelspec": {
   "display_name": "Python 3",
   "language": "python",
   "name": "python3"
  },
  "language_info": {
   "codemirror_mode": {
    "name": "ipython",
    "version": 3
   },
   "file_extension": ".py",
   "mimetype": "text/x-python",
   "name": "python",
   "nbconvert_exporter": "python",
   "pygments_lexer": "ipython3",
   "version": "3.12.4"
  }
 },
 "nbformat": 4,
 "nbformat_minor": 2
}
